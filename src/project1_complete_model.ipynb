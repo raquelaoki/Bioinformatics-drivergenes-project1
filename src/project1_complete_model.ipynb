{
 "cells": [
  {
   "cell_type": "code",
   "execution_count": 1,
   "metadata": {
    "collapsed": true
   },
   "outputs": [],
   "source": [
    "'''Loading libraries'''\n",
    "import pandas as pd\n",
    "import numpy as np\n",
    "import scipy.stats\n",
    "import matplotlib.pyplot as plt\n",
    "import os \n",
    "import math\n",
    "\n",
    "#path = ''\n",
    "#os.chdir(path)\n",
    "%matplotlib inline  "
   ]
  },
  {
   "cell_type": "code",
   "execution_count": 2,
   "metadata": {},
   "outputs": [
    {
     "data": {
      "text/html": [
       "<div>\n",
       "<style>\n",
       "    .dataframe thead tr:only-child th {\n",
       "        text-align: right;\n",
       "    }\n",
       "\n",
       "    .dataframe thead th {\n",
       "        text-align: left;\n",
       "    }\n",
       "\n",
       "    .dataframe tbody tr th {\n",
       "        vertical-align: top;\n",
       "    }\n",
       "</style>\n",
       "<table border=\"1\" class=\"dataframe\">\n",
       "  <thead>\n",
       "    <tr style=\"text-align: right;\">\n",
       "      <th></th>\n",
       "      <th>gene</th>\n",
       "      <th>ensembl_gene_id</th>\n",
       "      <th>gene_biotype</th>\n",
       "      <th>chromosome_name</th>\n",
       "      <th>start</th>\n",
       "      <th>end</th>\n",
       "      <th>g_score</th>\n",
       "      <th>mutsig</th>\n",
       "      <th>avg_expr</th>\n",
       "      <th>sirna</th>\n",
       "    </tr>\n",
       "  </thead>\n",
       "  <tbody>\n",
       "    <tr>\n",
       "      <th>0</th>\n",
       "      <td>A1BG</td>\n",
       "      <td>ENSG00000121410</td>\n",
       "      <td>protein_coding</td>\n",
       "      <td>19</td>\n",
       "      <td>58345178</td>\n",
       "      <td>58353499</td>\n",
       "      <td>0.027891</td>\n",
       "      <td>-0.257187</td>\n",
       "      <td>5.419211</td>\n",
       "      <td>0.449420</td>\n",
       "    </tr>\n",
       "    <tr>\n",
       "      <th>1</th>\n",
       "      <td>A1CF</td>\n",
       "      <td>ENSG00000148584</td>\n",
       "      <td>protein_coding</td>\n",
       "      <td>10</td>\n",
       "      <td>50799409</td>\n",
       "      <td>50885675</td>\n",
       "      <td>0.009572</td>\n",
       "      <td>-0.012908</td>\n",
       "      <td>0.559459</td>\n",
       "      <td>-0.693753</td>\n",
       "    </tr>\n",
       "    <tr>\n",
       "      <th>2</th>\n",
       "      <td>A2M</td>\n",
       "      <td>ENSG00000175899</td>\n",
       "      <td>protein_coding</td>\n",
       "      <td>12</td>\n",
       "      <td>9067664</td>\n",
       "      <td>9116229</td>\n",
       "      <td>0.009709</td>\n",
       "      <td>-0.250799</td>\n",
       "      <td>13.373874</td>\n",
       "      <td>0.372179</td>\n",
       "    </tr>\n",
       "    <tr>\n",
       "      <th>3</th>\n",
       "      <td>A2ML1</td>\n",
       "      <td>ENSG00000166535</td>\n",
       "      <td>protein_coding</td>\n",
       "      <td>12</td>\n",
       "      <td>8822472</td>\n",
       "      <td>8887001</td>\n",
       "      <td>0.011142</td>\n",
       "      <td>-0.001836</td>\n",
       "      <td>3.841615</td>\n",
       "      <td>1.745096</td>\n",
       "    </tr>\n",
       "    <tr>\n",
       "      <th>4</th>\n",
       "      <td>A3GALT2</td>\n",
       "      <td>ENSG00000184389</td>\n",
       "      <td>protein_coding</td>\n",
       "      <td>1</td>\n",
       "      <td>33306766</td>\n",
       "      <td>33321098</td>\n",
       "      <td>0.022153</td>\n",
       "      <td>NaN</td>\n",
       "      <td>NaN</td>\n",
       "      <td>NaN</td>\n",
       "    </tr>\n",
       "  </tbody>\n",
       "</table>\n",
       "</div>"
      ],
      "text/plain": [
       "      gene  ensembl_gene_id    gene_biotype  chromosome_name     start  \\\n",
       "0     A1BG  ENSG00000121410  protein_coding               19  58345178   \n",
       "1     A1CF  ENSG00000148584  protein_coding               10  50799409   \n",
       "2      A2M  ENSG00000175899  protein_coding               12   9067664   \n",
       "3    A2ML1  ENSG00000166535  protein_coding               12   8822472   \n",
       "4  A3GALT2  ENSG00000184389  protein_coding                1  33306766   \n",
       "\n",
       "        end   g_score    mutsig   avg_expr     sirna  \n",
       "0  58353499  0.027891 -0.257187   5.419211  0.449420  \n",
       "1  50885675  0.009572 -0.012908   0.559459 -0.693753  \n",
       "2   9116229  0.009709 -0.250799  13.373874  0.372179  \n",
       "3   8887001  0.011142 -0.001836   3.841615  1.745096  \n",
       "4  33321098  0.022153       NaN        NaN       NaN  "
      ]
     },
     "execution_count": 2,
     "metadata": {},
     "output_type": "execute_result"
    }
   ],
   "source": [
    "'''Loading Logistic Regresson Features by gene'''\n",
    "#Pre-prossing on R\n",
    "gsd = pd.read_table('data_gscore_features_bygene.csv', sep=';',index_col=False)\n",
    "gsd.head()"
   ]
  },
  {
   "cell_type": "code",
   "execution_count": 3,
   "metadata": {
    "collapsed": true
   },
   "outputs": [],
   "source": [
    "'''Normalization Features'''\n",
    "#The bigger the value, higher the chance of being a driver gene\n",
    "#print(features.head())\n",
    "gsd['mutsig'] = gsd['mutsig']*(-1) \n",
    "gsd['sirna'] = gsd['sirna']*(-1)\n",
    "\n",
    "gsd['mutsig'] = (gsd['mutsig']-gsd['mutsig'].mean())/(gsd['mutsig'].std())\n",
    "gsd['avg_expr'] = (gsd['avg_expr']-gsd['avg_expr'].mean())/(gsd['avg_expr'].std())\n",
    "gsd['sirna'] = (gsd['sirna']-gsd['sirna'].mean())/(gsd['sirna'].std())"
   ]
  },
  {
   "cell_type": "code",
   "execution_count": 4,
   "metadata": {},
   "outputs": [
    {
     "name": "stdout",
     "output_type": "stream",
     "text": [
      "(19279, 10)\n",
      "(12957, 10)\n"
     ]
    }
   ],
   "source": [
    "'''Droping SiRNA and NA'''\n",
    "print(gsd.shape)\n",
    "gsd = gsd.dropna(axis=0,how='any')\n",
    "print(gsd.shape)"
   ]
  },
  {
   "cell_type": "code",
   "execution_count": 5,
   "metadata": {
    "collapsed": true
   },
   "outputs": [],
   "source": [
    "'''Selecting top100 genes in each feature'''\n",
    "#The top100 genes will be added into the final dataset, \n",
    "#even if their g-score is not very large\n",
    "\n",
    "#mutsig\n",
    "gsd = gsd.sort_values('mutsig', ascending=0)\n",
    "top_genes_f = gsd['gene'].head(100)\n",
    "#avg_expr\n",
    "gsd = gsd.sort_values('avg_expr', ascending=0)\n",
    "top_genes_f = top_genes_f.append(gsd['gene'].head(100))\n",
    "#sirna\n",
    "gsd = gsd.sort_values('sirna', ascending=0)\n",
    "top_genes_f = top_genes_f.append(gsd['gene'].head(100))\n",
    "\n",
    "#removing duplicated genes on the vector \n",
    "top_genes_f = top_genes_f.unique()\n",
    "top_genes_f = set(top_genes_f)\n",
    "\n",
    "'''Evaluation'''\n",
    "intogen = ['ADCY1','AHNAK','AKAP9','APC','AQR','ARFGAP3','ARID1B','ATIC','ATM','ATRX','BCLAF1',\n",
    "           'BCOR','BNC2','BPTF','BRAF','CASP1','CAT','CDC27','CDH1','CDKN1B','CEP290','CHD1L',\n",
    "           'CHD3','CHD4','CHEK2','CNOT1','CNOT3','CNTNAP1','CTNNB1','CUL2','CUL3','EEF1B2','EGFR',\n",
    "           'EIF2AK3','EIF4G1','EP300','ERCC2','FAT1','FGFR2','FIP1L1','FN1','FRG1','G3BP2','GNAS',\n",
    "           'HGF','HNF1A','HRAS','HSP90AB1','HSPA8','IDH1','IRS2','KDM6A','KEAP1','MECOM','MED12',\n",
    "           'MLL2','MYH10','NAP1L1','NKX3-1','NOTCH1','NOTCH2','NUP98','PCDH18','PIK3CB','PLXNA1',\n",
    "           'PRPF8','PTEN','RPSAP58','SCAI','SETDB1','SMAD4','SMARCA1','SMARCB1','SPOP','SVEP1','TAOK2',\n",
    "           'TBL1XR1','TBX3','THRAP3','TJP1','TJP2','TP53','TP53BP1','TRIO','WHSC1L1','WNT5A','ZFHX3','ZNF814']\n",
    "\n",
    "\n",
    "census = ['ACSL3','AR','AXIN1','BRAF','CANT1','DDX5','ELK4','ERG','ETV1','ETV4','ETV5',\n",
    "          'FOXA1','HERPUD1','HNRNPA2B1','KLF6','KLK2','NCOR2','NDRG1','PTEN','RAF1',\n",
    "          'SALL4','SLC45A3','SPOP','TMPRSS2','ZFHX3']\n",
    "\n",
    "evaluation = list(set(intogen) | set(census))\n",
    "\n",
    "#forcing those genes to appear on the dataset\n",
    "#top_genes_f = set.union(top_genes_f, evaluation)\n",
    "\n",
    "'''This genes have high values from features, they should be at the data after\n",
    "the filter, even if their g-score are not large'''\n",
    "#Bool variable: 1 if gene is on top100 from features, 0 otherwise \n",
    "gsd['top_features'] = 0\n",
    "gsd = gsd.reset_index(drop=True)\n",
    "\n",
    "for i in np.arange(0,gsd.shape[0]):  \n",
    "    if gsd.gene[i] in top_genes_f:\n",
    "        gsd.loc[i,'top_features'] = 1"
   ]
  },
  {
   "cell_type": "code",
   "execution_count": 6,
   "metadata": {},
   "outputs": [
    {
     "name": "stderr",
     "output_type": "stream",
     "text": [
      "C:\\Users\\raque\\Anaconda3\\lib\\site-packages\\ipykernel_launcher.py:7: SettingWithCopyWarning: \n",
      "A value is trying to be set on a copy of a slice from a DataFrame\n",
      "\n",
      "See the caveats in the documentation: http://pandas.pydata.org/pandas-docs/stable/indexing.html#indexing-view-versus-copy\n",
      "  import sys\n",
      "C:\\Users\\raque\\Anaconda3\\lib\\site-packages\\ipykernel_launcher.py:12: SettingWithCopyWarning: \n",
      "A value is trying to be set on a copy of a slice from a DataFrame.\n",
      "Try using .loc[row_indexer,col_indexer] = value instead\n",
      "\n",
      "See the caveats in the documentation: http://pandas.pydata.org/pandas-docs/stable/indexing.html#indexing-view-versus-copy\n",
      "  if sys.path[0] == '':\n",
      "C:\\Users\\raque\\Anaconda3\\lib\\site-packages\\ipykernel_launcher.py:14: SettingWithCopyWarning: \n",
      "A value is trying to be set on a copy of a slice from a DataFrame.\n",
      "Try using .loc[row_indexer,col_indexer] = value instead\n",
      "\n",
      "See the caveats in the documentation: http://pandas.pydata.org/pandas-docs/stable/indexing.html#indexing-view-versus-copy\n",
      "  \n"
     ]
    }
   ],
   "source": [
    "'''Defining driver genes model's seed'''\n",
    "#top100 genes from g-score are used as driver genes seed\n",
    "#top101-1500 genes from g-score or present in the top100 features are the passengers genes seed \n",
    "#The threhold 1500 was defined based on the paper (they mentioned 84 regions with about 14 genes each)\n",
    "gsd = gsd.sort_values(by=['g_score'],axis=0,ascending=False)\n",
    "gsd['top_gscore'] = 0\n",
    "gsd['top_gscore'][101:1200] = 1\n",
    "\n",
    "'''Creating data'''\n",
    "#y: 1 if gene is driver, 0 otherwise \n",
    "gd = gsd[0:100]\n",
    "gd['y']=1\n",
    "gp = gsd.loc[((gsd.top_gscore==1) | (gsd.top_features==1))]\n",
    "gp['y']=0\n",
    "\n",
    "#new dataset deleting unimportant columns \n",
    "#some warnings, but everything is fine  \n",
    "f = 4\n",
    "data = pd.concat([gd,gp])\n",
    "data['intercept']=1\n",
    "data = data[['gene','g_score','intercept','mutsig','avg_expr','sirna','y']]\n",
    "data.columns = ['gene','gscore','intercept','mutsig','avg_expr','sirna','y']"
   ]
  },
  {
   "cell_type": "code",
   "execution_count": 7,
   "metadata": {},
   "outputs": [
    {
     "name": "stdout",
     "output_type": "stream",
     "text": [
      "driver genes size - seed (100,)\n",
      "passenger genes size - seed (1369,)\n"
     ]
    }
   ],
   "source": [
    "'''Checking g-score distribution of driver and passengers genes'''\n",
    "print('driver genes size - seed',gd['g_score'].shape)\n",
    "print('passenger genes size - seed',gp['g_score'].shape)"
   ]
  },
  {
   "cell_type": "code",
   "execution_count": 8,
   "metadata": {
    "collapsed": true
   },
   "outputs": [],
   "source": [
    "'''Metropolis-Hastings algorithm'''\n",
    "#Definitions \n",
    "#theta: set of unknown paramets\n",
    "#using normal distribution instead of exponential distribution\n",
    "\n",
    "#Unknown parameters - start values\n",
    "#N(mu0,var0): driver genes\n",
    "#N(mu1,var1): passenger genes\n",
    "theta_start1 = [0,0,0,0] #w0,w1,w2,mu0, mu1, var0, var1\n",
    "theta_start2 = [0.06,0.06,0.0004,0.0008] #w0,w1,w2,mu0, mu1, var0, var1\n",
    "T = np.array(data['y'])\n",
    "\n",
    "'''Likelihood 1: P(T|w,x)~logit()'''\n",
    "def likelihood1_old(param,data,T,f):\n",
    "    xw = data[['intercept','mutsig','avg_expr','sirna']].dot(param)\n",
    "    l1 = 1/(1+np.exp(-xw))\n",
    "    l0 = 1 - l1  \n",
    "    l1[T==0] = l0[T==0]\n",
    "    l1 = l1+0.000001\n",
    "    return np.log(l1).sum()\n",
    "\n",
    "'''Likelihood 2: P(Gscore|T,mean,sd)~Normal(mean,sd)'''\n",
    "def likelihood2_old(param,T,data,f):\n",
    "    media = T\n",
    "    media=[param[0] if x==0 else param[1] for x in media]\n",
    "    var = T\n",
    "    var = [param[2] if x==0 else param[3] for x in var]\n",
    "    l2 = scipy.stats.norm(media, np.sqrt(var)).pdf(data.gscore)\n",
    "    #print('\\n',data.gscore.mean(),data.gscore.var(),param[4:8],l2[0:3])\n",
    "    return np.log(l2).sum()\n",
    "\n"
   ]
  },
  {
   "cell_type": "code",
   "execution_count": 9,
   "metadata": {
    "collapsed": true
   },
   "outputs": [],
   "source": [
    "'''Priori: w0,w1,w2,w3, mu0,mu1, var0,va1'''\n",
    "def priori1(param,f):\n",
    "    w = scipy.stats.norm(0,0.25).pdf(param[0:f])\n",
    "    return np.log(w).sum()\n",
    "\n",
    "'''Priori: w0,w1,w2,w3, mu0,mu1, var0,va1'''\n",
    "def priori2(param,f):\n",
    "    mu0 = scipy.stats.norm(0.04,np.sqrt(0.03)).pdf(param[0])\n",
    "    mu1 = scipy.stats.norm(0.07,np.sqrt(0.01)).pdf(param[1])\n",
    "    return (np.log(mu1)+np.log(mu0))"
   ]
  },
  {
   "cell_type": "code",
   "execution_count": 10,
   "metadata": {
    "collapsed": true
   },
   "outputs": [],
   "source": [
    "'''Posterior'''\n",
    "def posterior2(param,T,data,f,l):\n",
    "    #print(np.around(likelihood2_old(param,T,data,f),2),np.around(likelihood1_old(param,data,T,f),2),\n",
    "    #      np.around(priori(param,f),2),np.around(param,4))\n",
    "    #print(l,likelihood2_old(param,T,data,f),priori2(param,f),param)\n",
    "    return (likelihood2_old(param,T,data,f)+priori2(param,f))\n",
    "\n",
    "def posterior1(param,T,data,f,l):\n",
    "    #print(l,likelihood1_old(param,data,T,f),priori1(param,f))\n",
    "    return (likelihood1_old(param,data,T,f)+priori1(param,f))\n",
    "\n",
    "\n",
    "#Vector with proposed values \n",
    "# Values are proposed from a Normal distribution\n",
    "# mean is equal to current values and variance are hyperparameters \n",
    "#theta_proposed = np.random.normal(theta_current,[0.5,0.5,0.5,0.5,0.02,0.02,0.0004,0.0004])\n",
    "'''ProposalValue'''\n",
    "def proposalvalues1(param):\n",
    "    part1 = np.random.normal(param[0:4],[0.075,0.075,0.075,0.075])\n",
    "    return(part1)\n",
    "\n",
    "def proposalvalues2(param):\n",
    "    part1 = np.random.normal(param[0:2],[0.001,0.001])\n",
    "    l = np.array(param[2:4])-0.00001\n",
    "    l[l<=0.000001] = 0.000001\n",
    "    h = np.array(param[2:4])+0.00001\n",
    "    part2 = np.random.uniform(low = l, high = h)\n",
    "    return(np.concatenate([part1,part2]))\n"
   ]
  },
  {
   "cell_type": "code",
   "execution_count": 11,
   "metadata": {
    "collapsed": true
   },
   "outputs": [],
   "source": [
    "def T_update_old(param1,param2,f):\n",
    "    #print(param2,'\\n')\n",
    "    xw = data[['intercept','mutsig','avg_expr','sirna']].dot(param1)\n",
    "    t11 = 1/(1+np.exp(-xw)) #array    \n",
    "    t21 = scipy.stats.norm(param2[1], np.sqrt(param2[3])).pdf(data.gscore)\n",
    "\n",
    "    t10 = 1-(1/(1+np.exp(-xw))) #array    \n",
    "    t20 = scipy.stats.norm(param2[0], np.sqrt(param2[2])).pdf(data.gscore)\n",
    "    \n",
    "    t1 = t11*t21\n",
    "    t0 = t10*t20\n",
    "    \n",
    "    prob_t1 = t1/(t1+t0)\n",
    "    \n",
    "    t_new = np.random.binomial(1,prob_t1,len(prob_t1))\n",
    "    #print(t_new[0:10],'\\n')\n",
    "    return t_new\n"
   ]
  },
  {
   "cell_type": "code",
   "execution_count": 12,
   "metadata": {
    "collapsed": true
   },
   "outputs": [],
   "source": [
    "'''MCMC'''\n",
    "def runMCMC_old(startvalue1,startvalue2,iterations,T,data,f):\n",
    "    chain1 = np.zeros((iterations+1,len(startvalue1)))\n",
    "    chain2 = np.zeros((iterations+1,len(startvalue2)))\n",
    "    Tmatrix = np.zeros((iterations+1,len(T)))\n",
    "    chain1[0]=proposalvalues1(startvalue1)\n",
    "    chain2[0]=proposalvalues2(startvalue2)\n",
    "    Tmatrix[0]=T\n",
    "    for i in np.arange(iterations):\n",
    "        #print('\\n',i)\n",
    "\n",
    "        proposal1 = proposalvalues1(chain1[i,])\n",
    "        prob1 = np.exp(posterior1(proposal1,T,data,f,'p')-posterior1(chain1[i,],T,data,f,'c'))\n",
    "        t1 = np.all(np.random.uniform(0,1,1) < prob1)   \n",
    "                \n",
    "        if t1: \n",
    "            chain1[i+1] = proposal1\n",
    "            T = T_update_old(chain1[i+1],chain2[i],f) \n",
    "            Tmatrix[i+1] = T\n",
    "        else: \n",
    "            chain1[i+1] = chain1[i]\n",
    "            Tmatrix[i+1] = Tmatrix[i]\n",
    " \n",
    "        proposal2 = proposalvalues2(chain2[i,])\n",
    "        prob2 = np.exp(posterior2(proposal2,T,data,f,'p')-posterior2(chain2[i,],T,data,f,'c'))\n",
    "        t2 = np.all(np.random.uniform(0,1,1) < prob2)\n",
    "\n",
    "        if t2:\n",
    "            chain2[i+1] = proposal2\n",
    "        else: \n",
    "            chain2[i+1] = chain2[i]\n",
    "            \n",
    "#        if (t1) or (t2):\n",
    "#            Tmatrix[i+1] = T\n",
    "#        else:\n",
    "#            Tmatrix[i+1] = Tmatrix[i]\n",
    "            \n",
    "    return chain1,chain2, T, Tmatrix        \n"
   ]
  },
  {
   "cell_type": "code",
   "execution_count": 13,
   "metadata": {},
   "outputs": [],
   "source": [
    "f=4\n",
    "chain1,chain2, Tnew, Tmatrix = runMCMC_old(theta_start1,theta_start2,8000,T,data,f)\n",
    "np.savetxt('complete_chain1_T.csv',chain1,delimiter=';')\n",
    "np.savetxt('complete_chain2_T.csv',chain2,delimiter=';')\n",
    "np.savetxt('complete_matrix_T.csv',Tmatrix,delimiter=';')\n"
   ]
  },
  {
   "cell_type": "code",
   "execution_count": 14,
   "metadata": {},
   "outputs": [
    {
     "name": "stdout",
     "output_type": "stream",
     "text": [
      "acceptance rate (8001, 4) (2046, 4) 25.57180352455943\n",
      "acceptance rate (8001, 4) (2487, 4) 31.083614548181476\n"
     ]
    },
    {
     "data": {
      "image/png": "[encoded data removed]",
      "text/plain": [
       "<matplotlib.figure.Figure at 0x1ecdff98e80>"
      ]
     },
     "metadata": {},
     "output_type": "display_data"
    },
    {
     "data": {
      "image/png": "[encoded data removed]",
      "text/plain": [
       "<matplotlib.figure.Figure at 0x1ecdffe65c0>"
      ]
     },
     "metadata": {},
     "output_type": "display_data"
    },
    {
     "data": {
      "image/png": "[encoded data removed]",
      "text/plain": [
       "<matplotlib.figure.Figure at 0x1ece009c828>"
      ]
     },
     "metadata": {},
     "output_type": "display_data"
    }
   ],
   "source": [
    "print('acceptance rate',chain1.shape, np.unique(chain1,axis=0).shape,np.unique(chain1,axis=0).shape[0]*100/chain1.shape[0])\n",
    "print('acceptance rate',chain2.shape, np.unique(chain2,axis=0).shape,np.unique(chain2,axis=0).shape[0]*100/chain2.shape[0])\n",
    "\n",
    "chain11 = pd.DataFrame(chain1, columns=['w0','w1','w2','w3'])\n",
    "chain11['iteration'] = chain11.index\n",
    "plt.plot(chain11.iteration,chain11.w0,'r--',\n",
    "         chain11.iteration,chain11.w1,'b--',\n",
    "         chain11.iteration,chain11.w2,'y--',\n",
    "         chain11.iteration,chain11.w3,'g--')\n",
    "plt.show()\n",
    "\n",
    "chain22 = pd.DataFrame(chain2, columns=['mu0','mu1','var0','var1'])\n",
    "chain22['iteration'] = chain22.index\n",
    "plt.plot(chain22.iteration,chain22.mu0,'r--',\n",
    "         chain22.iteration,chain22.mu1,'b--')\n",
    "plt.show()\n",
    "plt.plot(chain22.iteration,chain22.var0,'r--',\n",
    "         chain22.iteration,chain22.var1,'b--')\n",
    "plt.show()"
   ]
  },
  {
   "cell_type": "code",
   "execution_count": 24,
   "metadata": {},
   "outputs": [
    {
     "name": "stdout",
     "output_type": "stream",
     "text": [
      "last iteration T=1 elements 237\n",
      "0.160171058397\n",
      "driver genes size - final 239\n",
      "passenger genes size - final 1230\n"
     ]
    }
   ],
   "source": [
    "print('last iteration T=1 elements',Tnew.sum())\n",
    "\n",
    "Tmatrix = Tmatrix[int(Tmatrix.shape[0]*0.25):Tmatrix.shape[0]]\n",
    "tprob = Tmatrix.sum(axis=0)/Tmatrix.shape[0]\n",
    "#tfinal = np.random.binomial(1,tprob,len(tprob))\n",
    "print(tprob.mean())\n",
    "tfinal = tprob\n",
    "tfinal = np.random.binomial(1,tprob,len(tprob))\n",
    "\n",
    "gd = data[tfinal==1]\n",
    "gp = data[tfinal==0]\n",
    "print('driver genes size - final',gd['gscore'].shape[0])\n",
    "print('passenger genes size - final',gp['gscore'].shape[0])\n",
    "\n",
    "\n"
   ]
  },
  {
   "cell_type": "code",
   "execution_count": 25,
   "metadata": {},
   "outputs": [
    {
     "name": "stdout",
     "output_type": "stream",
     "text": [
      "Proportion of Driver from other lists (Recall):  63.63636363636363 %( 21 / 33 )\n",
      "Proportion of Driver Genes on Data:  16.269571136827775 %( 239 )\n",
      "Proportion of Driver Genes on other lists (Precision): 8.786610878661088 %\n"
     ]
    }
   ],
   "source": [
    "maximum = list(set(data.gene.tolist()).intersection(evaluation))\n",
    "\n",
    "gene = gd.gene.tolist()\n",
    "driver = list(set(gene).intersection(maximum))\n",
    "print('Proportion of Driver from other lists (Recall): ', len(driver)*100/len(maximum),'%(',len(driver),'/',len(maximum),')')\n",
    "print('Proportion of Driver Genes on Data: ',len(gene)*100/data.shape[0],'%(',len(gene),')')\n",
    "print('Proportion of Driver Genes on other lists (Precision):',len(driver)*100/len(gene),'%')\n",
    "#driver"
   ]
  },
  {
   "cell_type": "code",
   "execution_count": 17,
   "metadata": {},
   "outputs": [],
   "source": [
    "pd.options.display.max_rows = 4000\n",
    "#gene"
   ]
  },
  {
   "cell_type": "code",
   "execution_count": 18,
   "metadata": {},
   "outputs": [],
   "source": [
    "top100 = data\n",
    "top100['prob'] = tprob\n",
    "top100 = top100.sort_values(\"prob\", axis=0, ascending=False)\n",
    "genes100 = top100['gene'].head(100)\n",
    "#list(genes100)"
   ]
  },
  {
   "cell_type": "code",
   "execution_count": 19,
   "metadata": {},
   "outputs": [
    {
     "name": "stdout",
     "output_type": "stream",
     "text": [
      "Proportion of Driver from other lists (Recall):  39.39393939393939 %( 13 / 33 )\n",
      "Proportion of Driver Genes on Data:  6.807351940095303 %( 100 )\n",
      "Proportion of Driver Genes on other lists (Precision): 13.0 %\n"
     ]
    }
   ],
   "source": [
    "driver = list(set(genes100).intersection(maximum))\n",
    "print('Proportion of Driver from other lists (Recall): ', len(driver)*100/len(maximum),'%(',len(driver),'/',len(maximum),')')\n",
    "print('Proportion of Driver Genes on Data: ',len(genes100)*100/data.shape[0],'%(',len(genes100),')')\n",
    "print('Proportion of Driver Genes on other lists (Precision):',len(driver)*100/len(genes100),'%')\n",
    "#driver"
   ]
  }
 ],
 "metadata": {
  "kernelspec": {
   "display_name": "Python 3",
   "language": "python",
   "name": "python3"
  },
  "language_info": {
   "codemirror_mode": {
    "name": "ipython",
    "version": 3
   },
   "file_extension": ".py",
   "mimetype": "text/x-python",
   "name": "python",
   "nbconvert_exporter": "python",
   "pygments_lexer": "ipython3",
   "version": "3.7.1"
  }
 },
 "nbformat": 4,
 "nbformat_minor": 2
}
